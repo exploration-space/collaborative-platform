{
 "cells": [
  {
   "cell_type": "markdown",
   "metadata": {},
   "source": [
    "# PROVIDEDH Collaborative platform\n",
    "## Jupyter notebook"
   ]
  },
  {
   "cell_type": "code",
   "execution_count": 1,
   "metadata": {},
   "outputs": [],
   "source": [
    "from apps.files_management.models import File, FileVersion, Directory\n",
    "from apps.projects.models import Project"
   ]
  },
  {
   "cell_type": "code",
   "execution_count": 2,
   "metadata": {},
   "outputs": [],
   "source": [
    "from django.db.models import Q"
   ]
  },
  {
   "cell_type": "code",
   "execution_count": 3,
   "metadata": {},
   "outputs": [],
   "source": [
    "from lxml import etree as et\n",
    "from lxml.etree import Element\n",
    "import re"
   ]
  },
  {
   "cell_type": "code",
   "execution_count": 4,
   "metadata": {},
   "outputs": [],
   "source": [
    "import nltk\n",
    "import spacy\n",
    "import en_core_web_md\n",
    "sp_nlp_en = en_core_web_md.load()"
   ]
  },
  {
   "cell_type": "markdown",
   "metadata": {},
   "source": [
    "## 1 File retrieval"
   ]
  },
  {
   "cell_type": "code",
   "execution_count": 5,
   "metadata": {},
   "outputs": [],
   "source": [
    "namespaces = {'tei': 'http://www.tei-c.org/ns/1.0', 'xml': 'http://www.w3.org/XML/1998/namespace'}"
   ]
  },
  {
   "cell_type": "code",
   "execution_count": 6,
   "metadata": {},
   "outputs": [],
   "source": [
    "project = Project.objects.get(title__exact='ner')\n",
    "files_query = Q(project=project)"
   ]
  },
  {
   "cell_type": "code",
   "execution_count": 7,
   "metadata": {},
   "outputs": [],
   "source": [
    "files = File.objects.filter(files_query)"
   ]
  },
  {
   "cell_type": "code",
   "execution_count": 10,
   "metadata": {},
   "outputs": [],
   "source": [
    "v = files[0].versions.all()[1]"
   ]
  },
  {
   "cell_type": "code",
   "execution_count": 11,
   "metadata": {},
   "outputs": [
    {
     "data": {
      "text/plain": [
       "<FileVersion: FileVersion object (71)>"
      ]
     },
     "execution_count": 11,
     "metadata": {},
     "output_type": "execute_result"
    }
   ],
   "source": [
    "v"
   ]
  },
  {
   "cell_type": "markdown",
   "metadata": {},
   "source": [
    "## 2 File processing"
   ]
  },
  {
   "cell_type": "code",
   "execution_count": 12,
   "metadata": {},
   "outputs": [],
   "source": [
    "f = files[0]\n",
    "f_download = f.download()\n",
    "f_content = f_download.getvalue().decode('UTF-8')"
   ]
  },
  {
   "cell_type": "code",
   "execution_count": 325,
   "metadata": {},
   "outputs": [],
   "source": [
    "f_et = et.XML(f_content)\n",
    "\n",
    "body = f_et.xpath('.//tei:body', namespaces=namespaces)[0]\n",
    "\n",
    "body_text = body.xpath('.//text()')\n",
    "\n",
    "withtextnodes = lambda x: len(x.xpath('text()')) > 0\n",
    "notemptyline = lambda text: len(text.strip()) > 0\n",
    "withnotemptylines = lambda node: any(map(notemptyline, node.xpath('text()')))\n",
    "\n",
    "nodes_filtered = filter(withnotemptylines, filter(withtextnodes, body.iter()))\n",
    "text_nodes = list(map(lambda x: list(filter(notemptyline, x.xpath('text()'))), nodes_filtered))\n",
    "\n",
    "body_text_filtered = ' '.join(map(lambda x: ' '.join(x), text_nodes))"
   ]
  },
  {
   "cell_type": "markdown",
   "metadata": {},
   "source": [
    "## 3 Text tagging"
   ]
  },
  {
   "cell_type": "markdown",
   "metadata": {},
   "source": [
    "### spacy en_core_web_md"
   ]
  },
  {
   "cell_type": "code",
   "execution_count": 326,
   "metadata": {},
   "outputs": [],
   "source": [
    "body_sp = sp_nlp_en(str(body_text_filtered))"
   ]
  },
  {
   "cell_type": "code",
   "execution_count": 327,
   "metadata": {},
   "outputs": [],
   "source": [
    "bulletproof = lambda text: '( |<.*>|)+'.join(text.strip().replace(' ',''))\n",
    "assert len(re.findall(bulletproof('12th of'),r'12th <del rend=\"doublestrikethrough\">of')) == 1\n",
    "assert len(re.findall(bulletproof('12th of'),r'12th<del rend=\"doublestrikethrough\">of')) == 1"
   ]
  },
  {
   "cell_type": "code",
   "execution_count": 328,
   "metadata": {},
   "outputs": [
    {
     "data": {
      "text/plain": [
       "'Dublin'"
      ]
     },
     "execution_count": 328,
     "metadata": {},
     "output_type": "execute_result"
    }
   ],
   "source": [
    "body_sp.ents[2].text"
   ]
  },
  {
   "cell_type": "code",
   "execution_count": 324,
   "metadata": {},
   "outputs": [
    {
     "data": {
      "text/plain": [
       "[&   , xd;London.#xd;#xd, 1641, Moore James Ware]"
      ]
     },
     "execution_count": 324,
     "metadata": {},
     "output_type": "execute_result"
    }
   ],
   "source": [
    "entities"
   ]
  },
  {
   "cell_type": "code",
   "execution_count": 329,
   "metadata": {},
   "outputs": [
    {
     "name": "stdout",
     "output_type": "stream",
     "text": [
      "261 to 268\n",
      "261\n",
      "CARDINAL\n",
      "...........................................\n",
      " of Dublin Alderman taken the 12th of November \n",
      "Dublin\n",
      "GPE\n",
      "...........................................\n",
      " of Dublin Alderman taken the 12th of November \n",
      "12\n",
      "CARDINAL\n",
      "...........................................\n",
      " of Dublin Alderman taken the 12th of November \n",
      "Dublin\n",
      "GPE\n",
      "...........................................\n",
      " the clerk of the Councell by direction of the board\n",
      "Councell\n",
      "PERSON\n",
      "...........................................\n",
      " The said examinate saith that about July Last he being then in London\n",
      "                    \n",
      "London\n",
      "GPE\n",
      "...........................................\n",
      " The said examinate saith that about July Last he being then in London\n",
      "                    \n",
      "London\n",
      "GPE\n",
      "...........................................\n",
      " The said examinate saith that about July Last he being then in London\n",
      "                    \n",
      "about July Last\n",
      "DATE\n",
      "...........................................\n",
      " an apothecary in\n",
      "                    Fleetestreete where one \n",
      "Fleetestreete\n",
      "PERSON\n",
      "...........................................\n",
      " lodged the examinate\n",
      "                    & his wife one night being at Supper with the said \n",
      "Supper\n",
      "TIME\n",
      "...........................................\n",
      " lodged the examinate\n",
      "                    & his wife one night being at Supper with the said \n",
      "one night\n",
      "TIME\n",
      "...........................................\n",
      " lodged the examinate\n",
      "                    & his wife one night being at Supper with the said \n",
      "Supper\n",
      "TIME\n",
      "...........................................\n",
      " being\n",
      "                    then likewise at Supper with them asked him why he did not Live in England seing that he had given\n",
      "                    over \n",
      "Supper\n",
      "TIME\n",
      "...........................................\n",
      " being\n",
      "                    then likewise at Supper with them asked him why he did not Live in England seing that he had given\n",
      "                    over \n",
      "Live in England\n",
      "WORK_OF_ART\n",
      "...........................................\n",
      " his trading. To which the examinate answered that he chose\n",
      "                    rather to Live in Ireland because the Little means he had was there. whereupon the said \n",
      "Live\n",
      "FAC\n",
      "...........................................\n",
      " his trading. To which the examinate answered that he chose\n",
      "                    rather to Live in Ireland because the Little means he had was there. whereupon the said \n",
      "Ireland\n",
      "GPE\n",
      "...........................................\n",
      "\n",
      "                    replyed that it was much to be feared that there would be ould cutting of throats in Ireland er it\n",
      "                    were Long.\n",
      "Ireland\n",
      "GPE\n",
      "...........................................\n",
      "Edward Lake\n",
      "Edward Lake\n",
      "LOC\n",
      "...........................................\n",
      "1641\n",
      "1641\n",
      "CARDINAL\n",
      "...........................................\n",
      "Thomas Hicks\n",
      "Thomas Hicks\n",
      "PERSON\n",
      "...........................................\n",
      "Doctor Moore \n",
      "Moore\n",
      "PERSON\n",
      "...........................................\n",
      "Thomas Hicks\n",
      "Thomas Hicks\n",
      "PERSON\n",
      "...........................................\n",
      "Doctor Moore\n",
      "Moore\n",
      "PERSON\n",
      "...........................................\n",
      "Doctor Moore\n",
      "Moore\n",
      "PERSON\n",
      "...........................................\n",
      "London.\n",
      "London\n",
      "GPE\n",
      "...........................................\n",
      "1641\n",
      "1641\n",
      "CARDINAL\n",
      "...........................................\n",
      "Doctor Moore\n",
      "Moore\n",
      "PERSON\n",
      "...........................................\n",
      "\n",
      "                    the clerk of the Council by direction of the board#xd;\n",
      "Council\n",
      "ORG\n",
      "...........................................\n",
      " The said\n",
      "                    examinant says that about July Last he being then in London\n",
      "                    \n",
      "about July Last\n",
      "DATE\n",
      "...........................................\n",
      " an apothecary in Fleetestreete where one \n",
      "Fleetestreete\n",
      "PERSON\n",
      "...........................................\n",
      " lodged the examinant & his wife one night being at Supper with the said \n",
      "one night\n",
      "TIME\n",
      "...........................................\n",
      " lodged the examinant & his wife one night being at Supper with the said \n",
      "Supper\n",
      "TIME\n",
      "...........................................\n",
      " being then likewise at Supper with them asked him why he did not Live in England\n",
      "                    seeing that he had given over \n",
      "Supper\n",
      "TIME\n",
      "...........................................\n",
      " being then likewise at Supper with them asked him why he did not Live in England\n",
      "                    seeing that he had given over \n",
      "Live in England\n",
      "WORK_OF_ART\n",
      "...........................................\n",
      " his trading. To which the examinant\n",
      "                    answered that he chose rather to Live in Ireland because the Little means he had was there.\n",
      "                    whereupon the said \n",
      "Live\n",
      "FAC\n",
      "...........................................\n",
      " his trading. To which the examinant\n",
      "                    answered that he chose rather to Live in Ireland because the Little means he had was there.\n",
      "                    whereupon the said \n",
      "Ireland\n",
      "GPE\n",
      "...........................................\n",
      " replied that it was much to be feared that there would be old\n",
      "                    cutting of throats in Ireland er it were Long.#xd;\n",
      "Ireland\n",
      "GPE\n",
      "...........................................\n",
      " replied that it was much to be feared that there would be old\n",
      "                    cutting of throats in Ireland er it were Long.#xd;\n",
      "Long.#xd\n",
      "GPE\n",
      "...........................................\n",
      "1641\n",
      "1641\n",
      "CARDINAL\n",
      "...........................................\n",
      "Thomas Hicks\n",
      "Thomas Hicks\n",
      "PERSON\n",
      "...........................................\n",
      "Doctor Moore \n",
      "Moore\n",
      "PERSON\n",
      "...........................................\n",
      "Doctor Moore\n",
      "Moore\n",
      "PERSON\n",
      "...........................................\n",
      "#xd;#xd;12\n",
      "                    \n",
      "xd;#xd;12\n",
      "MONEY\n",
      "...........................................\n",
      "#xd;Examination of Edward#xd;Lake concerning a conference\n",
      "                    #xd;between him & \n",
      "xd;between\n",
      "MONEY\n",
      "...........................................\n",
      " in #xd;London.#xd;#xd;\n",
      "                \n",
      "xd;London.#xd;#xd\n",
      "MONEY\n",
      "...........................................\n",
      "1641\n",
      "1641\n",
      "CARDINAL\n",
      "...........................................\n"
     ]
    }
   ],
   "source": [
    "entities = list([e for e in body_sp.ents]) \n",
    "\n",
    "for text_node in text_nodes:\n",
    "    for fragment in text_node:\n",
    "        for entity in entities:\n",
    "            if entity.text in fragment:\n",
    "                print(fragment)\n",
    "                print(entity.text)\n",
    "                print(entity.label_)\n",
    "                print('...........................................')\n",
    "                wrap_text_in_tag(fragment, entity.text, entity.label_)\n",
    "                entities.pop(0)"
   ]
  },
  {
   "cell_type": "code",
   "execution_count": null,
   "metadata": {},
   "outputs": [],
   "source": [
    "fragment = re.search(bulletproof(ent.text), text)[0]\n",
    "    print(fragment)\n",
    "    parts = text.partition(fragment)\n",
    "    tagged += parts[0] + f'<{ent.label_} class=\"proposed\" model=\"spacy_en_core_web_md\" count=\"{i}\">{parts[1]}</{ent.label_}>'\n",
    "    text = parts[2]\n",
    "tagged += text"
   ]
  },
  {
   "cell_type": "code",
   "execution_count": null,
   "metadata": {},
   "outputs": [],
   "source": [
    "def wrap_text_in_tag(text,substring,tag_name):\n",
    "    text_node = text.getparent()\n",
    "    partitions = text.partition(substring)\n",
    "    text_node.tail = partitions[0]\n",
    "    \n",
    "    newElement = et.Element(tag_name)\n",
    "    newElement.text = partitions[1]\n",
    "    newElement.tail = partitions[2]\n",
    "    \n",
    "    index = text_node.getparent().index(text_node) + 1\n",
    "    text_node.getparent().insert(index,newElement)"
   ]
  },
  {
   "cell_type": "code",
   "execution_count": 292,
   "metadata": {},
   "outputs": [
    {
     "data": {
      "text/plain": [
       "True"
      ]
     },
     "execution_count": 292,
     "metadata": {},
     "output_type": "execute_result"
    }
   ],
   "source": [
    "body_sp.ents[i].text in text_nodes[1][0]"
   ]
  },
  {
   "cell_type": "code",
   "execution_count": 70,
   "metadata": {
    "collapsed": true
   },
   "outputs": [
    {
     "ename": "XMLSyntaxError",
     "evalue": "Unescaped '<' not allowed in attributes values, line 11, column 36 (<string>, line 11)",
     "output_type": "error",
     "traceback": [
      "Traceback \u001b[0;36m(most recent call last)\u001b[0m:\n",
      "  File \u001b[1;32m\"/home/alex/projects/collaborative-platform_venv/lib/python3.6/site-packages/IPython/core/interactiveshell.py\"\u001b[0m, line \u001b[1;32m3326\u001b[0m, in \u001b[1;35mrun_code\u001b[0m\n    exec(code_obj, self.user_global_ns, self.user_ns)\n",
      "  File \u001b[1;32m\"<ipython-input-70-fa860d7c781a>\"\u001b[0m, line \u001b[1;32m1\u001b[0m, in \u001b[1;35m<module>\u001b[0m\n    et.fromstring(tagged)\n",
      "  File \u001b[1;32m\"src/lxml/etree.pyx\"\u001b[0m, line \u001b[1;32m3234\u001b[0m, in \u001b[1;35mlxml.etree.fromstring\u001b[0m\n",
      "  File \u001b[1;32m\"src/lxml/parser.pxi\"\u001b[0m, line \u001b[1;32m1876\u001b[0m, in \u001b[1;35mlxml.etree._parseMemoryDocument\u001b[0m\n",
      "  File \u001b[1;32m\"src/lxml/parser.pxi\"\u001b[0m, line \u001b[1;32m1757\u001b[0m, in \u001b[1;35mlxml.etree._parseDoc\u001b[0m\n",
      "  File \u001b[1;32m\"src/lxml/parser.pxi\"\u001b[0m, line \u001b[1;32m1068\u001b[0m, in \u001b[1;35mlxml.etree._BaseParser._parseUnicodeDoc\u001b[0m\n",
      "  File \u001b[1;32m\"src/lxml/parser.pxi\"\u001b[0m, line \u001b[1;32m601\u001b[0m, in \u001b[1;35mlxml.etree._ParserContext._handleParseResultDoc\u001b[0m\n",
      "  File \u001b[1;32m\"src/lxml/parser.pxi\"\u001b[0m, line \u001b[1;32m711\u001b[0m, in \u001b[1;35mlxml.etree._handleParseResult\u001b[0m\n",
      "\u001b[0;36m  File \u001b[0;32m\"src/lxml/parser.pxi\"\u001b[0;36m, line \u001b[0;32m640\u001b[0;36m, in \u001b[0;35mlxml.etree._raiseParseError\u001b[0;36m\u001b[0m\n",
      "\u001b[0;36m  File \u001b[0;32m\"<string>\"\u001b[0;36m, line \u001b[0;32m11\u001b[0m\n\u001b[0;31mXMLSyntaxError\u001b[0m\u001b[0;31m:\u001b[0m Unescaped '<' not allowed in attributes values, line 11, column 36\n"
     ]
    }
   ],
   "source": [
    "et.fromstring(tagged)"
   ]
  },
  {
   "cell_type": "code",
   "execution_count": 32,
   "metadata": {},
   "outputs": [],
   "source": [
    "body.getparent().replace(body, et.fromstring(tagged))"
   ]
  },
  {
   "cell_type": "code",
   "execution_count": 49,
   "metadata": {},
   "outputs": [
    {
     "data": {
      "text/plain": [
       "'Trinity College Dublin Dublin'"
      ]
     },
     "execution_count": 49,
     "metadata": {},
     "output_type": "execute_result"
    }
   ],
   "source": [
    "body_sp.ents[0].text"
   ]
  },
  {
   "cell_type": "code",
   "execution_count": 53,
   "metadata": {
    "collapsed": true
   },
   "outputs": [
    {
     "data": {
      "text/plain": [
       "'Transcribed Version of Deposition\\n                 Edited Edited Trinity College Dublin Dublin, Ireland Ireland Edward Lake Dublin Dublin Ireland Alderman Thomas Hicks Doctor Moore Ja: Ware 261 to 268 The examination of  Edward Lake  of Dublin Alderman taken the 12th of November  1641 : upon oath  before ministred by  the clerk of the Councell by direction of the board A\\n                      The said examinate saith that about July Last he being then in London\\n                     and supping at and usually resorting to  the house of  Thomas Hicks  an apothecary in\\n                    Fleetestreete where one  Doctor Moore  usually  lodged the examinate\\n                    & his wife one night being at Supper with the said  Thomas Hicks . the said  Doctor Moore  being\\n                    then likewise at Supper with them asked him why he did not Live in England seing that he had given\\n                    over  B  his trading. To which the examinate answered that he chose\\n                    rather to Live in Ireland because the Little means he had was there. whereupon the said  Doctor Moore \\n                    replyed that it was much to be feared that there would be ould cutting of throats in Ireland er it\\n                    were Long. Edw: Lake Coram me Ja: Ware\\n                 12  No 1641 Examjnation of Edward Lake concerning a\\n                    conference  betweene him &  Doctor Moore  in  London. James Ware #xd;261 to 268#xd;The examination of  Edward Lake  of Dublin Alderman taken the 12th of November  1641 Upon oath\\n                     before ministered by \\n                    the clerk of the Council by direction of the board#xd; A  The said\\n                    examinant says that about July Last he being then in London\\n                     and supping at and usually resorting to \\n                    the house of  Thomas Hicks  an apothecary in Fleetestreete where one  Doctor Moore  usually\\n                      lodged the examinant & his wife one night being at Supper with the said  Thomas Hicks . the\\n                    said  Doctor Moore  being then likewise at Supper with them asked him why he did not Live in England\\n                    seeing that he had given over  B  his trading. To which the examinant\\n                    answered that he chose rather to Live in Ireland because the Little means he had was there.\\n                    whereupon the said  Doctor Moore  replied that it was much to be feared that there would be old\\n                    cutting of throats in Ireland er it were Long.#xd; Edward Lake #xd;Coram me#xd;James Ware\\n                 #xd;#xd;12\\n                     No 1641 #xd;Examination of Edward#xd;Lake concerning a conference\\n                    #xd;between him &  Doctor Moore  in #xd;London.#xd;#xd;\\n                 James Ware'"
      ]
     },
     "execution_count": 53,
     "metadata": {},
     "output_type": "execute_result"
    }
   ],
   "source": [
    "body_text_filtered"
   ]
  },
  {
   "cell_type": "code",
   "execution_count": 243,
   "metadata": {
    "collapsed": true
   },
   "outputs": [
    {
     "name": "stdout",
     "output_type": "stream",
     "text": [
      "<body xmlns=\"http://www.tei-c.org/ns/1.0\" xmlns:xi=\"http://www.w3.org/2001/XInclude\">\n",
      "      <div type=\"deposition\">\n",
      "        <closer>\n",
      "          <signed>\n",
      "            <roleName type=\"Commissioner\"/>\n",
      "            <name>Ja: Ware</name>\n",
      "          </signed>\n",
      "        </closer>\n",
      "      </div>\n",
      "      <div type=\"original\">\n",
      "        <pb n=\"fol. 164r\" pagenum=\"261\"/>\n",
      "        <p><lb/>261 to 268<lb/>The examination of <person sameAs=\"person809164r087-1\">Edward Lake</person> of Dublin Alderman taken the 12th of November <del rend=\"doublestrikethrough\">1641</del>: upon oath <del rend=\"strikethrough\">before</del>\n",
      "                    <add place=\"inline\">ministred by</add> the clerk of the Councell by direction of the board<lb/><note type=\"marginalia\">A\n",
      "                    </note> The said examinate saith that about July Last he being then in London\n",
      "                    <del rend=\"strikethrough\"><add place=\"inline\">and supping</add></del>\n",
      "                    <del rend=\"strikethrough\">at</del>\n",
      "                    <add place=\"inline\">and usually resorting to</add> the house of <person sameAs=\"person809164r087-2\">Thomas Hicks</person> an apothecary in\n",
      "                    Fleetestreete where one <person sameAs=\"person809164r087-3\">Doctor Moore </person><del rend=\"strikethrough\">usually</del> lodged the examinate\n",
      "                    &amp; his wife one night being at Supper with the said <person sameAs=\"person809164r087-2\">Thomas Hicks</person>. the said <person sameAs=\"person809164r087-3\">Doctor Moore</person> being\n",
      "                    then likewise at Supper with them asked him why he did not Live in England seing that he had given\n",
      "                    over <note type=\"marginalia\">B</note> his trading. To which the examinate answered that he chose\n",
      "                    rather to Live in Ireland because the Little means he had was there. whereupon the said <person sameAs=\"person809164r087-3\">Doctor Moore</person>\n",
      "                    replyed that it was much to be feared that there would be ould cutting of throats in Ireland er it\n",
      "                    were Long.<lb/>Edw: Lake<lb/>Coram me<lb/>Ja: Ware\n",
      "                </p>\n",
      "        <pb n=\"fol. 164v\"/>\n",
      "        <p/>\n",
      "        <pb n=\"fol. 165r\"/>\n",
      "        <p/>\n",
      "        <pb n=\"fol. 165v\" pagenum=\"12\"/>\n",
      "        <p><lb/><lb/>12 <del rend=\"doublestrikethrough\">No</del>\n",
      "                    <del rend=\"doublestrikethrough\">1641</del><lb/>Examjnation of Edward<lb/>Lake concerning a\n",
      "                    conference <lb/>betweene him &amp; <person sameAs=\"person809164r087-3\">Doctor Moore</person> in <lb/>London.<lb/><lb/>\n",
      "                </p>\n",
      "        <closer>\n",
      "          <signed>\n",
      "            <roleName type=\"Commissioner\"/>\n",
      "            <name>James Ware</name>\n",
      "          </signed>\n",
      "        </closer>\n",
      "      </div>\n",
      "      <div type=\"normalised\">\n",
      "        <pb n=\"fol. 164r\" pagenum=\"261\"/>\n",
      "        <p>#xd;261 to 268#xd;The examination of <person sameAs=\"person809164r087-1\">Edward Lake</person> of Dublin Alderman taken the 12th of November <del rend=\"doublestrikethrough\">1641</del>Upon oath\n",
      "                    <del rend=\"strikethrough\">before</del>\n",
      "                    <add place=\"inline\">ministered by</add>\n",
      "                    the clerk of the Council by direction of the board#xd;<note type=\"marginalia\">A</note> The said\n",
      "                    examinant says that about July Last he being then in London\n",
      "                    <del rend=\"strikethrough\"><add place=\"inline\">and supping</add></del>\n",
      "                    <del rend=\"strikethrough\">at</del>\n",
      "                    <add place=\"inline\">and usually resorting to</add>\n",
      "                    the house of <person sameAs=\"person809164r087-2\">Thomas Hicks</person> an apothecary in Fleetestreete where one <person sameAs=\"person809164r087-3\">Doctor Moore </person><del rend=\"strikethrough\">usually\n",
      "                    </del> lodged the examinant &amp; his wife one night being at Supper with the said <person sameAs=\"person809164r087-2\">Thomas Hicks</person>. the\n",
      "                    said <person sameAs=\"person809164r087-3\">Doctor Moore</person> being then likewise at Supper with them asked him why he did not Live in England\n",
      "                    seeing that he had given over <note type=\"marginalia\">B</note> his trading. To which the examinant\n",
      "                    answered that he chose rather to Live in Ireland because the Little means he had was there.\n",
      "                    whereupon the said <person sameAs=\"person809164r087-3\">Doctor Moore</person> replied that it was much to be feared that there would be old\n",
      "                    cutting of throats in Ireland er it were Long.#xd;<person sameAs=\"person809164r087-1\">Edward Lake</person>#xd;Coram me#xd;James Ware\n",
      "                </p>\n",
      "        <pb n=\"fol. 164v\"/>\n",
      "        <p/>\n",
      "        <pb n=\"fol. 165r\"/>\n",
      "        <p/>\n",
      "        <pb n=\"fol. 165v\" pagenum=\"12\"/>\n",
      "        <p>#xd;#xd;12\n",
      "                    <del rend=\"doublestrikethrough\">No</del>\n",
      "                    <del rend=\"doublestrikethrough\">1641</del>#xd;Examination of Edward#xd;Lake concerning a conference\n",
      "                    #xd;between him &amp; <person sameAs=\"person809164r087-3\">Doctor Moore</person> in #xd;London.#xd;#xd;\n",
      "                </p>\n",
      "        <closer>\n",
      "          <signed>\n",
      "            <rolename type=\"commissioner\"/>\n",
      "            <name>James Ware</name>\n",
      "          </signed>\n",
      "        </closer>\n",
      "      </div>\n",
      "    </body>\n",
      "    \n"
     ]
    }
   ],
   "source": [
    "print(et.tostring(body).decode('UTF-8'))"
   ]
  },
  {
   "cell_type": "code",
   "execution_count": 254,
   "metadata": {},
   "outputs": [],
   "source": [
    "node = text_nodes[1]"
   ]
  },
  {
   "cell_type": "code",
   "execution_count": 330,
   "metadata": {
    "scrolled": false
   },
   "outputs": [
    {
     "name": "stdout",
     "output_type": "stream",
     "text": [
      "<body xmlns=\"http://www.tei-c.org/ns/1.0\" xmlns:xi=\"http://www.w3.org/2001/XInclude\">\n",
      "      <div type=\"deposition\">\n",
      "        <closer>\n",
      "          <signed>\n",
      "            <roleName type=\"Commissioner\"/>\n",
      "            <name>Ja: Ware</name>\n",
      "          </signed>\n",
      "        </closer>\n",
      "      </div>\n",
      "      <div type=\"original\">\n",
      "        <pb n=\"fol. 164r\" pagenum=\"261\"/>\n",
      "        <p><lb/><CARDINAL>261</CARDINAL> to 268<lb/>The examination of <person sameAs=\"person809164r087-1\">Edward Lake</person><LOC>Edward Lake</LOC><GPE>Dublin</GPE> Alderman taken the 12th of November <CARDINAL>12</CARDINAL>th of November <GPE>Dublin</GPE> Alderman taken the 12th of November <del rend=\"doublestrikethrough\">1641</del><CARDINAL>1641</CARDINAL><del rend=\"strikethrough\">before</del>\n",
      "                    <add place=\"inline\">ministred by</add> the clerk of the <PERSON>Councell</PERSON> by direction of the board<lb/><note type=\"marginalia\">A\n",
      "                    </note> The said examinate saith that <DATE>about July Last</DATE> he being then in London\n",
      "                    <GPE>London</GPE>\n",
      "                    <GPE>London</GPE>\n",
      "                    <del rend=\"strikethrough\"><add place=\"inline\">and supping</add></del>\n",
      "                    <del rend=\"strikethrough\">at</del>\n",
      "                    <add place=\"inline\">and usually resorting to</add> the house of <person sameAs=\"person809164r087-2\">Thomas Hicks</person><PERSON>Thomas Hicks</PERSON><PERSON>Fleetestreete</PERSON> where one <person sameAs=\"person809164r087-3\">Doctor Moore </person>Doctor <PERSON>Moore</PERSON> <del rend=\"strikethrough\">usually</del> lodged the examinate\n",
      "                    &amp; his wife one night being at <TIME>Supper</TIME> with the said <TIME>one night</TIME> being at Supper with the said <TIME>Supper</TIME> with the said <person sameAs=\"person809164r087-2\">Thomas Hicks</person><PERSON>Thomas Hicks</PERSON><person sameAs=\"person809164r087-3\">Doctor Moore</person>Doctor <PERSON>Moore</PERSON><WORK_OF_ART>Live in England</WORK_OF_ART> seing that he had given\n",
      "                    over <TIME>Supper</TIME> with them asked him why he did not Live in England seing that he had given\n",
      "                    over <note type=\"marginalia\">B</note> his trading. To which the examinate answered that he chose\n",
      "                    rather to Live in <GPE>Ireland</GPE> because the Little means he had was there. whereupon the said <FAC>Live</FAC> in Ireland because the Little means he had was there. whereupon the said <person sameAs=\"person809164r087-3\">Doctor Moore</person>Doctor <PERSON>Moore</PERSON><GPE>Ireland</GPE> er it\n",
      "                    were Long.<lb/>Edw: Lake<lb/>Coram me<lb/>Ja: Ware\n",
      "                </p>\n",
      "        <pb n=\"fol. 164v\"/>\n",
      "        <p/>\n",
      "        <pb n=\"fol. 165r\"/>\n",
      "        <p/>\n",
      "        <pb n=\"fol. 165v\" pagenum=\"12\"/>\n",
      "        <p><lb/><lb/>12 <del rend=\"doublestrikethrough\">No</del>\n",
      "                    <del rend=\"doublestrikethrough\">1641</del><CARDINAL>1641</CARDINAL><lb/>Examjnation of Edward<lb/>Lake concerning a\n",
      "                    conference <lb/>betweene him &amp; <person sameAs=\"person809164r087-3\">Doctor Moore</person>Doctor <PERSON>Moore</PERSON><lb/><GPE>London</GPE>.<lb/><lb/>\n",
      "                </p>\n",
      "        <closer>\n",
      "          <signed>\n",
      "            <roleName type=\"Commissioner\"/>\n",
      "            <name>James Ware</name>\n",
      "          </signed>\n",
      "        </closer>\n",
      "      </div>\n",
      "      <div type=\"normalised\">\n",
      "        <pb n=\"fol. 164r\" pagenum=\"261\"/>\n",
      "        <p>#xd;261 to 268#xd;The examination of <person sameAs=\"person809164r087-1\">Edward Lake</person> of Dublin Alderman taken the 12th of November <del rend=\"doublestrikethrough\">1641</del><CARDINAL>1641</CARDINAL><del rend=\"strikethrough\">before</del>\n",
      "                    <add place=\"inline\">ministered by</add>\n",
      "                    the clerk of the <ORG>Council</ORG> by direction of the board#xd;<note type=\"marginalia\">A</note> The said\n",
      "                    examinant says that <DATE>about July Last</DATE> he being then in London\n",
      "                    <del rend=\"strikethrough\"><add place=\"inline\">and supping</add></del>\n",
      "                    <del rend=\"strikethrough\">at</del>\n",
      "                    <add place=\"inline\">and usually resorting to</add>\n",
      "                    the house of <person sameAs=\"person809164r087-2\">Thomas Hicks</person><PERSON>Thomas Hicks</PERSON><PERSON>Fleetestreete</PERSON> where one <person sameAs=\"person809164r087-3\">Doctor Moore </person>Doctor <PERSON>Moore</PERSON> <del rend=\"strikethrough\">usually\n",
      "                    </del> lodged the examinant &amp; his wife one night being at <TIME>Supper</TIME> with the said <TIME>one night</TIME> being at Supper with the said <person sameAs=\"person809164r087-2\">Thomas Hicks</person>. the\n",
      "                    said <person sameAs=\"person809164r087-3\">Doctor Moore</person>Doctor <PERSON>Moore</PERSON><WORK_OF_ART>Live in England</WORK_OF_ART>\n",
      "                    seeing that he had given over <TIME>Supper</TIME> with them asked him why he did not Live in England\n",
      "                    seeing that he had given over <note type=\"marginalia\">B</note> his trading. To which the examinant\n",
      "                    answered that he chose rather to Live in <GPE>Ireland</GPE> because the Little means he had was there.\n",
      "                    whereupon the said <FAC>Live</FAC> in Ireland because the Little means he had was there.\n",
      "                    whereupon the said <person sameAs=\"person809164r087-3\">Doctor Moore</person> replied that it was much to be feared that there would be old\n",
      "                    cutting of throats in Ireland er it were <GPE>Long.#xd</GPE>;<GPE>Ireland</GPE> er it were Long.#xd;<person sameAs=\"person809164r087-1\">Edward Lake</person>#xd;Coram me#xd;James Ware\n",
      "                </p>\n",
      "        <pb n=\"fol. 164v\"/>\n",
      "        <p/>\n",
      "        <pb n=\"fol. 165r\"/>\n",
      "        <p/>\n",
      "        <pb n=\"fol. 165v\" pagenum=\"12\"/>\n",
      "        <p>#xd;#xd;12\n",
      "                    <del rend=\"doublestrikethrough\">No</del>\n",
      "                    <del rend=\"doublestrikethrough\">1641</del><CARDINAL>1641</CARDINAL><MONEY>xd;between</MONEY> him &amp; <person sameAs=\"person809164r087-3\">Doctor Moore</person> in #<MONEY>xd;London.#xd;#xd</MONEY>;\n",
      "                </p>#<MONEY>xd;#xd;12</MONEY>\n",
      "                    <closer>\n",
      "          <signed>\n",
      "            <rolename type=\"commissioner\"/>\n",
      "            <name>James Ware</name>\n",
      "          </signed>\n",
      "        </closer>\n",
      "      </div>\n",
      "    </body>\n",
      "    \n"
     ]
    }
   ],
   "source": [
    "print(et.tostring(body).decode('UTF-8'))"
   ]
  },
  {
   "cell_type": "code",
   "execution_count": 277,
   "metadata": {},
   "outputs": [
    {
     "data": {
      "text/plain": [
       "' of Dublin Alderman taken the 12th of November '"
      ]
     },
     "execution_count": 277,
     "metadata": {},
     "output_type": "execute_result"
    }
   ],
   "source": [
    "node[1][2]"
   ]
  },
  {
   "cell_type": "code",
   "execution_count": 281,
   "metadata": {},
   "outputs": [],
   "source": [
    "wrap_text_in_tag(node[1][2],'Dublin','place')"
   ]
  },
  {
   "cell_type": "code",
   "execution_count": 280,
   "metadata": {},
   "outputs": [],
   "source": [
    "def wrap_text_in_tag(text,substring,tag_name):\n",
    "    text_node = text.getparent()\n",
    "    partitions = text.partition(substring)\n",
    "    text_node.tail = partitions[0]\n",
    "    \n",
    "    newElement = et.Element(tag_name)\n",
    "    newElement.text = partitions[1]\n",
    "    newElement.tail = partitions[2]\n",
    "    \n",
    "    index = text_node.getparent().index(text_node) + 1\n",
    "    text_node.getparent().insert(index,newElement)"
   ]
  },
  {
   "cell_type": "code",
   "execution_count": 256,
   "metadata": {},
   "outputs": [
    {
     "name": "stdout",
     "output_type": "stream",
     "text": [
      "('26', '1 to 2', '68')\n"
     ]
    }
   ],
   "source": [
    "text = node[1][0]\n",
    "text_node = node[1][0].getparent()\n",
    "partitions = text.partition('1 ato 2')\n",
    "print(partitions)\n",
    "text_node.tail = partitions[0]"
   ]
  },
  {
   "cell_type": "code",
   "execution_count": 258,
   "metadata": {},
   "outputs": [],
   "source": [
    "newElement = et.Element('a')\n",
    "newElement.text = partitions[1]\n",
    "newElement.tail = partitions[2]"
   ]
  },
  {
   "cell_type": "code",
   "execution_count": 265,
   "metadata": {},
   "outputs": [
    {
     "data": {
      "text/plain": [
       "0"
      ]
     },
     "execution_count": 265,
     "metadata": {},
     "output_type": "execute_result"
    }
   ],
   "source": []
  },
  {
   "cell_type": "code",
   "execution_count": 266,
   "metadata": {},
   "outputs": [
    {
     "data": {
      "text/plain": [
       "'The examination of '"
      ]
     },
     "execution_count": 266,
     "metadata": {},
     "output_type": "execute_result"
    }
   ],
   "source": [
    "index = text_node.getparent().index(text_node) + 1\n",
    "text_node.getparent().insert(index,newElement)\n",
    "node[1][1]"
   ]
  },
  {
   "cell_type": "code",
   "execution_count": 187,
   "metadata": {},
   "outputs": [],
   "source": [
    "newElement.tail = 'ewfdsx'"
   ]
  },
  {
   "cell_type": "code",
   "execution_count": 331,
   "metadata": {},
   "outputs": [
    {
     "data": {
      "text/plain": [
       "b'<TEI xmlns:xi=\"http://www.w3.org/2001/XInclude\" xmlns=\"http://www.tei-c.org/ns/1.0\">\\n  <!--<TEI>-->\\n  <teiHeader>\\n    <fileDesc>\\n      <titleStmt>\\n        <title>\\n\\n                </title>\\n      </titleStmt>\\n      <editionStmt>\\n        <edition>Transcribed Version of Deposition\\n                </edition>\\n        <respStmt>\\n          <resp xmlns=\"\">Edited</resp>\\n          <include xmlns=\"\" href=\"responsiblePeople.xml\" xpointer=\"RP2\"/>\\n        </respStmt>\\n        <respStmt>\\n          <resp xmlns=\"\">Edited</resp>\\n          <include xmlns=\"\" href=\"responsiblePeople.xml\" xpointer=\"RP4\"/>\\n        </respStmt>\\n      </editionStmt>\\n      <publicationStmt>\\n        <publisher>Trinity College Dublin</publisher>\\n        <pubPlace>Dublin, Ireland</pubPlace>\\n      </publicationStmt>\\n      <sourceDesc>\\n        <include href=\"manuscriptDescription_tei.xml\" xpointer=\"ms809\"/>\\n      </sourceDesc>\\n    </fileDesc>\\n    <encodingDesc>\\n      <charDecl>\\n            </charDecl>\\n      <xi:include href=\"projectDesc.xml\" xpointer=\"id1641-projectDesc\"/>\\n      <xi:include href=\"editorialDecl.xml\" xpointer=\"id1641-editorialDecl\"/>\\n    </encodingDesc>\\n    <profileDesc>\\n      <creation>\\n        <date when=\"1641_11_12\"/>\\n        <placeName>\\n          <country>Ireland</country>\\n        </placeName>\\n      </creation>\\n      <!-- Points to keywords in keywords.xml file -->\\n      <textClass>\\n        <keywords scheme=\"1641\">\\n          <list type=\"deposition_type\">\\n            <xi:include href=\"keywords.xml\" xpointer=\"nod66\"/>\\n          </list>\\n        </keywords>\\n        <keywords scheme=\"1641\">\\n          <list type=\"nature_of_deposition\">\\n            <xi:include href=\"keywords.xml\" xpointer=\"nod17\"/>\\n            <xi:include href=\"keywords.xml\" xpointer=\"nod43\"/>\\n          </list>\\n        </keywords>\\n      </textClass>\\n      <langUsage>\\n        <language ident=\"en\" usage=\"100\"/>\\n      </langUsage>\\n      <particDesc>\\n        <listPerson>\\n          <person xml:id=\"person809164r087-1\" sex=\"1\">\\n            <persName>\\n              <roleName type=\"Deponent\"/>\\n              <forename>Edward</forename>\\n              <surname>Lake</surname>\\n            </persName>\\n            <residence>\\n              <placeName type=\"City\">Dublin</placeName>\\n              <region type=\"County\">Dublin</region>\\n              <country key=\"IRL\">Ireland</country>\\n            </residence>\\n            <occupation>Alderman</occupation>\\n          </person>\\n          <person xml:id=\"person809164r087-2\" sex=\"1\">\\n            <persName>\\n              <roleName type=\"Mentioned\"/>\\n              <forename>Thomas</forename>\\n              <surname>Hicks</surname>\\n            </persName>\\n          </person>\\n          <person xml:id=\"person809164r087-3\" sex=\"3\">\\n            <persName>\\n              <roleName type=\"Mentioned\"/>\\n              <forename>Doctor</forename>\\n              <surname>Moore</surname>\\n            </persName>\\n          </person>\\n        </listPerson>\\n      </particDesc>\\n      <particDesc>\\n        <listPlace/>\\n      </particDesc>\\n    </profileDesc>\\n    <revisionDesc>\\n      <change when=\"2009-01-08T10:09:13\" who=\"responsiblePeople.xml#RP4\"/>\\n    </revisionDesc>\\n  </teiHeader>\\n  <!-- @corresp on <text> indicates that this transcription corresponds with the msItem identified in the msDesc file with this id. -->\\n  <text corresp=\"outputFiles/manuscriptDescription_tei.xml#p809164r087\">\\n    <body>\\n      <div type=\"deposition\">\\n        <closer>\\n          <signed>\\n            <roleName type=\"Commissioner\"/>\\n            <name>Ja: Ware</name>\\n          </signed>\\n        </closer>\\n      </div>\\n      <div type=\"original\">\\n        <pb n=\"fol. 164r\" pagenum=\"261\"/>\\n        <p><lb/><CARDINAL>261</CARDINAL> to 268<lb/>The examination of <person sameAs=\"person809164r087-1\">Edward Lake</person><LOC>Edward Lake</LOC><GPE>Dublin</GPE> Alderman taken the 12th of November <CARDINAL>12</CARDINAL>th of November <GPE>Dublin</GPE> Alderman taken the 12th of November <del rend=\"doublestrikethrough\">1641</del><CARDINAL>1641</CARDINAL><del rend=\"strikethrough\">before</del>\\n                    <add place=\"inline\">ministred by</add> the clerk of the <PERSON>Councell</PERSON> by direction of the board<lb/><note type=\"marginalia\">A\\n                    </note> The said examinate saith that <DATE>about July Last</DATE> he being then in London\\n                    <GPE>London</GPE>\\n                    <GPE>London</GPE>\\n                    <del rend=\"strikethrough\"><add place=\"inline\">and supping</add></del>\\n                    <del rend=\"strikethrough\">at</del>\\n                    <add place=\"inline\">and usually resorting to</add> the house of <person sameAs=\"person809164r087-2\">Thomas Hicks</person><PERSON>Thomas Hicks</PERSON><PERSON>Fleetestreete</PERSON> where one <person sameAs=\"person809164r087-3\">Doctor Moore </person>Doctor <PERSON>Moore</PERSON> <del rend=\"strikethrough\">usually</del> lodged the examinate\\n                    &amp; his wife one night being at <TIME>Supper</TIME> with the said <TIME>one night</TIME> being at Supper with the said <TIME>Supper</TIME> with the said <person sameAs=\"person809164r087-2\">Thomas Hicks</person><PERSON>Thomas Hicks</PERSON><person sameAs=\"person809164r087-3\">Doctor Moore</person>Doctor <PERSON>Moore</PERSON><WORK_OF_ART>Live in England</WORK_OF_ART> seing that he had given\\n                    over <TIME>Supper</TIME> with them asked him why he did not Live in England seing that he had given\\n                    over <note type=\"marginalia\">B</note> his trading. To which the examinate answered that he chose\\n                    rather to Live in <GPE>Ireland</GPE> because the Little means he had was there. whereupon the said <FAC>Live</FAC> in Ireland because the Little means he had was there. whereupon the said <person sameAs=\"person809164r087-3\">Doctor Moore</person>Doctor <PERSON>Moore</PERSON><GPE>Ireland</GPE> er it\\n                    were Long.<lb/>Edw: Lake<lb/>Coram me<lb/>Ja: Ware\\n                </p>\\n        <pb n=\"fol. 164v\"/>\\n        <p/>\\n        <pb n=\"fol. 165r\"/>\\n        <p/>\\n        <pb n=\"fol. 165v\" pagenum=\"12\"/>\\n        <p><lb/><lb/>12 <del rend=\"doublestrikethrough\">No</del>\\n                    <del rend=\"doublestrikethrough\">1641</del><CARDINAL>1641</CARDINAL><lb/>Examjnation of Edward<lb/>Lake concerning a\\n                    conference <lb/>betweene him &amp; <person sameAs=\"person809164r087-3\">Doctor Moore</person>Doctor <PERSON>Moore</PERSON><lb/><GPE>London</GPE>.<lb/><lb/>\\n                </p>\\n        <closer>\\n          <signed>\\n            <roleName type=\"Commissioner\"/>\\n            <name>James Ware</name>\\n          </signed>\\n        </closer>\\n      </div>\\n      <div type=\"normalised\">\\n        <pb n=\"fol. 164r\" pagenum=\"261\"/>\\n        <p>#xd;261 to 268#xd;The examination of <person sameAs=\"person809164r087-1\">Edward Lake</person> of Dublin Alderman taken the 12th of November <del rend=\"doublestrikethrough\">1641</del><CARDINAL>1641</CARDINAL><del rend=\"strikethrough\">before</del>\\n                    <add place=\"inline\">ministered by</add>\\n                    the clerk of the <ORG>Council</ORG> by direction of the board#xd;<note type=\"marginalia\">A</note> The said\\n                    examinant says that <DATE>about July Last</DATE> he being then in London\\n                    <del rend=\"strikethrough\"><add place=\"inline\">and supping</add></del>\\n                    <del rend=\"strikethrough\">at</del>\\n                    <add place=\"inline\">and usually resorting to</add>\\n                    the house of <person sameAs=\"person809164r087-2\">Thomas Hicks</person><PERSON>Thomas Hicks</PERSON><PERSON>Fleetestreete</PERSON> where one <person sameAs=\"person809164r087-3\">Doctor Moore </person>Doctor <PERSON>Moore</PERSON> <del rend=\"strikethrough\">usually\\n                    </del> lodged the examinant &amp; his wife one night being at <TIME>Supper</TIME> with the said <TIME>one night</TIME> being at Supper with the said <person sameAs=\"person809164r087-2\">Thomas Hicks</person>. the\\n                    said <person sameAs=\"person809164r087-3\">Doctor Moore</person>Doctor <PERSON>Moore</PERSON><WORK_OF_ART>Live in England</WORK_OF_ART>\\n                    seeing that he had given over <TIME>Supper</TIME> with them asked him why he did not Live in England\\n                    seeing that he had given over <note type=\"marginalia\">B</note> his trading. To which the examinant\\n                    answered that he chose rather to Live in <GPE>Ireland</GPE> because the Little means he had was there.\\n                    whereupon the said <FAC>Live</FAC> in Ireland because the Little means he had was there.\\n                    whereupon the said <person sameAs=\"person809164r087-3\">Doctor Moore</person> replied that it was much to be feared that there would be old\\n                    cutting of throats in Ireland er it were <GPE>Long.#xd</GPE>;<GPE>Ireland</GPE> er it were Long.#xd;<person sameAs=\"person809164r087-1\">Edward Lake</person>#xd;Coram me#xd;James Ware\\n                </p>\\n        <pb n=\"fol. 164v\"/>\\n        <p/>\\n        <pb n=\"fol. 165r\"/>\\n        <p/>\\n        <pb n=\"fol. 165v\" pagenum=\"12\"/>\\n        <p>#xd;#xd;12\\n                    <del rend=\"doublestrikethrough\">No</del>\\n                    <del rend=\"doublestrikethrough\">1641</del><CARDINAL>1641</CARDINAL><MONEY>xd;between</MONEY> him &amp; <person sameAs=\"person809164r087-3\">Doctor Moore</person> in #<MONEY>xd;London.#xd;#xd</MONEY>;\\n                </p>#<MONEY>xd;#xd;12</MONEY>\\n                    <closer>\\n          <signed>\\n            <rolename type=\"commissioner\"/>\\n            <name>James Ware</name>\\n          </signed>\\n        </closer>\\n      </div>\\n    </body>\\n    <back/>\\n  </text>\\n</TEI>'"
      ]
     },
     "execution_count": 331,
     "metadata": {},
     "output_type": "execute_result"
    }
   ],
   "source": [
    "et.tostring(f_et)"
   ]
  }
 ],
 "metadata": {
  "kernelspec": {
   "display_name": "Django Shell-Plus",
   "language": "python",
   "name": "django_extensions"
  },
  "language_info": {
   "codemirror_mode": {
    "name": "ipython",
    "version": 3
   },
   "file_extension": ".py",
   "mimetype": "text/x-python",
   "name": "python",
   "nbconvert_exporter": "python",
   "pygments_lexer": "ipython3",
   "version": "3.6.7"
  }
 },
 "nbformat": 4,
 "nbformat_minor": 2
}
