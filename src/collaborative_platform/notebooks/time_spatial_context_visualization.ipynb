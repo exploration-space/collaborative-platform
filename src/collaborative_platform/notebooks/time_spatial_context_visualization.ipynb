{
 "cells": [
  {
   "cell_type": "markdown",
   "metadata": {},
   "source": [
    "# PROVIDEDH Collaborative platform\n",
    "## Jupyter notebook"
   ]
  },
  {
   "cell_type": "code",
   "execution_count": 1,
   "metadata": {},
   "outputs": [],
   "source": [
    "import re\n",
    "import os\n",
    "from functools import reduce\n",
    "from lxml import etree as et\n",
    "from lxml.etree import Element\n",
    "import itertools\n",
    "import matplotlib.pyplot as plt\n",
    "import pandas as pd"
   ]
  },
  {
   "cell_type": "code",
   "execution_count": 2,
   "metadata": {},
   "outputs": [],
   "source": [
    "namespaces = {'tei': 'http://www.tei-c.org/ns/1.0', 'xml': 'http://www.w3.org/XML/1998/namespace'}"
   ]
  },
  {
   "cell_type": "markdown",
   "metadata": {},
   "source": [
    "## 1 Data structures"
   ]
  },
  {
   "cell_type": "code",
   "execution_count": 7,
   "metadata": {},
   "outputs": [
    {
     "data": {
      "text/plain": [
       "4"
      ]
     },
     "execution_count": 7,
     "metadata": {},
     "output_type": "execute_result"
    }
   ],
   "source": [
    "dep_path = 'depositions_subset/to_process/processed/dep_822013r014_tei_(original_normalized_depositions_marked_persons).xml'\n",
    "with open(dep_path, 'r') as f:\n",
    "    dep_raw = f.read()\n",
    "dep_tree = et.fromstring(dep_raw.encode())\n",
    "date_tags = dep_tree.find('.//tei:body', namespaces=namespaces).xpath('.//tei:date', namespaces=namespaces)\n",
    "len(date_tags)"
   ]
  },
  {
   "cell_type": "code",
   "execution_count": 14,
   "metadata": {},
   "outputs": [
    {
     "name": "stdout",
     "output_type": "stream",
     "text": [
      "<date xmlns=\"http://www.tei-c.org/ns/1.0\" xmlns:xi=\"http://www.w3.org/2001/XInclude\" when=\"--02-01\">of february last</date> the said \n",
      "\u001b[94m\u001b[1mhi\u001b[0m\n"
     ]
    }
   ],
   "source": [
    "tag_0 = date_tags[0]\n",
    "print(et.tostring(tag_0).decode('UTF-8'))\n",
    "class bcolors:\n",
    "    HEADER = '\\033[95m'\n",
    "    OKBLUE = '\\033[94m'\n",
    "    OKGREEN = '\\033[92m'\n",
    "    WARNING = '\\033[93m'\n",
    "    FAIL = '\\033[91m'\n",
    "    ENDC = '\\033[0m'\n",
    "    BOLD = '\\033[1m'\n",
    "    UNDERLINE = '\\033[4m'\n",
    "print(bcolors.OKBLUE+bcolors.BOLD+'hi'+bcolors.ENDC)"
   ]
  },
  {
   "cell_type": "code",
   "execution_count": 12,
   "metadata": {},
   "outputs": [
    {
     "name": "stdout",
     "output_type": "stream",
     "text": [
      "<placeName xmlns=\"http://www.tei-c.org/ns/1.0\" xmlns:xi=\"http://www.w3.org/2001/XInclude\">Province of Munster</placeName> &amp;c. deposeth\n",
      "                    and saith. That about the 14th day \n"
     ]
    }
   ],
   "source": [
    "print(et.tostring(tag_0.getprevious()).decode('UTF-8'))"
   ]
  },
  {
   "cell_type": "code",
   "execution_count": 11,
   "metadata": {},
   "outputs": [
    {
     "name": "stdout",
     "output_type": "stream",
     "text": [
      "<placeName xmlns=\"http://www.tei-c.org/ns/1.0\" xmlns:xi=\"http://www.w3.org/2001/XInclude\">Towne of Mitchelstowne</placeName> being burnt by\n",
      "                    the enemy the deponents dwellinge house \n"
     ]
    }
   ],
   "source": [
    "print(et.tostring(tag_0.getnext()).decode('UTF-8'))"
   ]
  },
  {
   "cell_type": "code",
   "execution_count": 55,
   "metadata": {},
   "outputs": [],
   "source": [
    "def print_in_columns(col1,sep,col2,length):\n",
    "    next_chars = lambda t, length: 0 if len(t) == 0 else min(len(t), length)\n",
    "    \n",
    "    next_col1_chars = next_chars(col1, length)\n",
    "    next_col2_chars = next_chars(col2, length)\n",
    "\n",
    "    col1_chars = '' if next_col1_chars == 0 else col1[:next_col1_chars]\n",
    "    col2_chars = '' if next_col2_chars == 0 else col2[:next_col2_chars]\n",
    "    \n",
    "    col1 = col1[next_col1_chars:]\n",
    "    col2 = col2[next_col2_chars:]\n",
    "    \n",
    "    string = f'{col1_chars:{length}}' \\\n",
    "            + bcolors.OKBLUE \\\n",
    "            + bcolors.BOLD \\\n",
    "            + ' '*int((length - len(sep))/2) \\\n",
    "            + sep \\\n",
    "            + ' '*int((length - len(sep))/2) \\\n",
    "            + bcolors.ENDC \\\n",
    "            + f'{col2_chars:{length}}' \n",
    "    print(string)\n",
    "    \n",
    "    while len(col1) + len(col2) > 0:\n",
    "        next_col1_chars = next_chars(col1, length)\n",
    "        next_col2_chars = next_chars(col2, length)\n",
    "        \n",
    "        col1_chars = '' if next_col1_chars == 0 else col1[:next_col1_chars]\n",
    "        col2_chars = '' if next_col2_chars == 0 else col2[:next_col2_chars]\n",
    "        \n",
    "        col1 = col1[next_col1_chars:]\n",
    "        col2 = col2[next_col2_chars:]\n",
    "        \n",
    "        string = f'{col1_chars:{length}}' \\\n",
    "            + bcolors.OKBLUE \\\n",
    "            + bcolors.BOLD \\\n",
    "            + ' '*length \\\n",
    "            + bcolors.ENDC \\\n",
    "            + f'{col2_chars:{length}}'\n",
    "        print(string)\n",
    "        "
   ]
  },
  {
   "cell_type": "code",
   "execution_count": 59,
   "metadata": {},
   "outputs": [
    {
     "name": "stdout",
     "output_type": "stream",
     "text": [
      "deposes and says. \u001b[94m\u001b[1m   February 1st   \u001b[0mthe said Town of M\n",
      "That about the 14t\u001b[94m\u001b[1m                  \u001b[0mitchelstown being \n",
      "h day             \u001b[94m\u001b[1m                  \u001b[0mburnt by the enemy\n",
      "                  \u001b[94m\u001b[1m                  \u001b[0m the deponent     \n"
     ]
    }
   ],
   "source": [
    "print_in_columns('deposes and says. That about the 14th day', \n",
    "                 ' February 1st ', \n",
    "                 'the said Town of Mitchelstown being burnt by the enemy the deponent',\n",
    "                 length=18)"
   ]
  }
 ],
 "metadata": {
  "kernelspec": {
   "display_name": "Django Shell-Plus",
   "language": "python",
   "name": "django_extensions"
  },
  "language_info": {
   "codemirror_mode": {
    "name": "ipython",
    "version": 3
   },
   "file_extension": ".py",
   "mimetype": "text/x-python",
   "name": "python",
   "nbconvert_exporter": "python",
   "pygments_lexer": "ipython3",
   "version": "3.6.7"
  }
 },
 "nbformat": 4,
 "nbformat_minor": 2
}
