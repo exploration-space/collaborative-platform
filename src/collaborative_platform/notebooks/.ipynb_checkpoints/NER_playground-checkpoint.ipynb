{
 "cells": [
  {
   "cell_type": "markdown",
   "metadata": {},
   "source": [
    "# PROVIDEDH Collaborative platform\n",
    "## Jupyter notebook"
   ]
  },
  {
   "cell_type": "code",
   "execution_count": 6,
   "metadata": {},
   "outputs": [],
   "source": [
    "from apps.files_management.models import File, FileVersion, Directory\n",
    "from apps.projects.models import Project"
   ]
  },
  {
   "cell_type": "code",
   "execution_count": 19,
   "metadata": {},
   "outputs": [],
   "source": [
    "from django.db.models import Q"
   ]
  },
  {
   "cell_type": "code",
   "execution_count": 386,
   "metadata": {},
   "outputs": [],
   "source": [
    "from lxml import etree as et\n",
    "from lxml.etree import Element\n",
    "import re"
   ]
  },
  {
   "cell_type": "code",
   "execution_count": 173,
   "metadata": {},
   "outputs": [],
   "source": [
    "import nltk\n",
    "import spacy\n",
    "import en_core_web_md\n",
    "sp_nlp_en = en_core_web_md.load()"
   ]
  },
  {
   "cell_type": "markdown",
   "metadata": {},
   "source": [
    "## 1 File retrieval"
   ]
  },
  {
   "cell_type": "code",
   "execution_count": 88,
   "metadata": {},
   "outputs": [],
   "source": [
    "namespaces = {'tei': 'http://www.tei-c.org/ns/1.0', 'xml': 'http://www.w3.org/XML/1998/namespace'}"
   ]
  },
  {
   "cell_type": "code",
   "execution_count": 24,
   "metadata": {},
   "outputs": [],
   "source": [
    "project = Project.objects.get(title__exact='ner')\n",
    "files_query = Q(project=project)"
   ]
  },
  {
   "cell_type": "code",
   "execution_count": 25,
   "metadata": {},
   "outputs": [],
   "source": [
    "files = File.objects.filter(files_query)"
   ]
  },
  {
   "cell_type": "markdown",
   "metadata": {},
   "source": [
    "## 2 File processing"
   ]
  },
  {
   "cell_type": "code",
   "execution_count": 73,
   "metadata": {},
   "outputs": [
    {
     "data": {
      "text/plain": [
       "'dep_809164r087_tei_(original_normalized_depositions_marked_persons).xml'"
      ]
     },
     "execution_count": 73,
     "metadata": {},
     "output_type": "execute_result"
    }
   ],
   "source": [
    "f = files[0]\n",
    "f_download = f.download()\n",
    "f_content = file.getvalue().decode('UTF-8')\n",
    "f.name"
   ]
  },
  {
   "cell_type": "code",
   "execution_count": 74,
   "metadata": {},
   "outputs": [],
   "source": [
    "f_et = et.XML(f_content)"
   ]
  },
  {
   "cell_type": "code",
   "execution_count": 92,
   "metadata": {},
   "outputs": [],
   "source": [
    "body = f_et.xpath('.//tei:body', namespaces=namespaces)[0]"
   ]
  },
  {
   "cell_type": "code",
   "execution_count": 137,
   "metadata": {},
   "outputs": [],
   "source": [
    "body_text = body.xpath('string()')"
   ]
  },
  {
   "cell_type": "markdown",
   "metadata": {},
   "source": [
    "## 3 Text tagging"
   ]
  },
  {
   "cell_type": "markdown",
   "metadata": {},
   "source": [
    "### spacy en_core_web_md"
   ]
  },
  {
   "cell_type": "code",
   "execution_count": 177,
   "metadata": {},
   "outputs": [],
   "source": [
    "body_sp = sp_nlp_en(str(body_text))"
   ]
  },
  {
   "cell_type": "code",
   "execution_count": 382,
   "metadata": {},
   "outputs": [],
   "source": [
    "bulletproof = lambda text: '( |<.*>|)+'.join(text.strip().replace(' ',''))\n",
    "assert len(re.findall(bulletproof('12th of'),r'12th <del rend=\"doublestrikethrough\">of')) == 1\n",
    "assert len(re.findall(bulletproof('12th of'),r'12th<del rend=\"doublestrikethrough\">of')) == 1"
   ]
  },
  {
   "cell_type": "code",
   "execution_count": 391,
   "metadata": {
    "scrolled": false
   },
   "outputs": [],
   "source": [
    "tagged = ''\n",
    "text = et.tostring(body).decode('UTF-8')\n",
    "for (i,ent) in enumerate(body_sp.ents):\n",
    "    fragment = re.search(bulletproof(ent.text), text)[0]\n",
    "    parts = text.partition(fragment)\n",
    "    tagged += parts[0] + f'<{ent.label_} class=\"proposed\" model=\"spacy_en_core_web_md\" count={i}>{parts[1]}</{ent.label_}>'\n",
    "    text = parts[2]\n",
    "tagged += text"
   ]
  },
  {
   "cell_type": "code",
   "execution_count": 392,
   "metadata": {
    "scrolled": false
   },
   "outputs": [
    {
     "name": "stdout",
     "output_type": "stream",
     "text": [
      "<body xmlns=\"http://www.tei-c.org/ns/1.0\" xmlns:xi=\"http://www.w3.org/2001/XInclude\">\n",
      "      <div type=\"deposition\">\n",
      "        <closer>\n",
      "          <signed>\n",
      "            <roleName type=\"Commissioner\"/>\n",
      "            <name>Ja: <GPE class=\"proposed\" model=\"spacy_en_core_web_md\" count=0>Ware</GPE></name>\n",
      "          </signed>\n",
      "        </closer>\n",
      "      </div>\n",
      "      <div type=\"original\">\n",
      "        <pb n=\"fol. 164r\" pagenum=\"<CARDINAL class=\"proposed\" model=\"spacy_en_core_web_md\" count=1>261</CARDINAL>\"/>\n",
      "        <p><lb/>261 to 268<lb/>The examination of <person sameAs=\"person809164r087-1\"><PERSON class=\"proposed\" model=\"spacy_en_core_web_md\" count=2>Edward Lake</PERSON></person> of <GPE class=\"proposed\" model=\"spacy_en_core_web_md\" count=3>Dublin</GPE> Alderman taken <DATE class=\"proposed\" model=\"spacy_en_core_web_md\" count=4>the 12th of November <del rend=\"doublestrikethrough\">1641</DATE></del>: upon oath <del rend=\"strikethrough\">before</del>\n",
      "                    <add place=\"inline\">ministred by</add> the clerk of the <PERSON class=\"proposed\" model=\"spacy_en_core_web_md\" count=5>Councell</PERSON> by direction of the board<lb/><note type=\"marginalia\">A\n",
      "                    </note> The said examinate saith that about July Last he being then in <GPE class=\"proposed\" model=\"spacy_en_core_web_md\" count=6>London</GPE>\n",
      "                    <del rend=\"strikethrough\"><add place=\"inline\">and supping</add></del>\n",
      "                    <del rend=\"strikethrough\">at</del>\n",
      "                    <add place=\"inline\">and usually resorting to</add> the house of <person sameAs=\"person809164r087-2\"><PERSON class=\"proposed\" model=\"spacy_en_core_web_md\" count=7>Thomas Hicks</PERSON></person> an apothecary in\n",
      "                    <PERSON class=\"proposed\" model=\"spacy_en_core_web_md\" count=8>Fleetestreete</PERSON> where <CARDINAL class=\"proposed\" model=\"spacy_en_core_web_md\" count=9>one</CARDINAL> <person sameAs=\"person809164r087-3\">Doctor <PERSON class=\"proposed\" model=\"spacy_en_core_web_md\" count=10>Moore</PERSON> </person><del rend=\"strikethrough\">usually</del> lodged the examinate\n",
      "                    &amp; his wife <TIME class=\"proposed\" model=\"spacy_en_core_web_md\" count=11>one night</TIME> being at <TIME class=\"proposed\" model=\"spacy_en_core_web_md\" count=12>Supper</TIME> with the said <person sameAs=\"person809164r087-2\"><PERSON class=\"proposed\" model=\"spacy_en_core_web_md\" count=13>Thomas Hicks</PERSON></person>. the said <person sameAs=\"person809164r087-3\">Doctor <PERSON class=\"proposed\" model=\"spacy_en_core_web_md\" count=14>Moore</PERSON></person> being\n",
      "                    then likewise at <TIME class=\"proposed\" model=\"spacy_en_core_web_md\" count=15>Supper</TIME> with them asked him why he did not <PRODUCT class=\"proposed\" model=\"spacy_en_core_web_md\" count=16>Live in England</PRODUCT> seing that he had given\n",
      "                    over <note type=\"marginalia\">B</note> his trading. To which the examinate answered that he chose\n",
      "                    rather to <FAC class=\"proposed\" model=\"spacy_en_core_web_md\" count=17>Live</FAC> in <GPE class=\"proposed\" model=\"spacy_en_core_web_md\" count=18>Ireland</GPE> because the Little means he had was there. whereupon the said <person sameAs=\"person809164r087-3\">Doctor <PERSON class=\"proposed\" model=\"spacy_en_core_web_md\" count=19>Moore</PERSON></person>\n",
      "                    replyed that it was much to be feared that there would be ould cutting of throats in <GPE class=\"proposed\" model=\"spacy_en_core_web_md\" count=20>Ireland</GPE> er it\n",
      "                    were Long.<lb/><PERSON class=\"proposed\" model=\"spacy_en_core_web_md\" count=21>Edw</PERSON>: <ORG class=\"proposed\" model=\"spacy_en_core_web_md\" count=22>Lake<lb/>Coram</ORG> me<lb/>Ja: <GPE class=\"proposed\" model=\"spacy_en_core_web_md\" count=23>Ware</GPE>\n",
      "                </p>\n",
      "        <pb n=\"fol. 164v\"/>\n",
      "        <p/>\n",
      "        <pb n=\"fol. 165r\"/>\n",
      "        <p/>\n",
      "        <pb n=\"fol. 165v\" pagenum=\"<CARDINAL class=\"proposed\" model=\"spacy_en_core_web_md\" count=24>12</CARDINAL>\"/>\n",
      "        <p><lb/><lb/>12 <del rend=\"doublestrikethrough\">No</del>\n",
      "                    <del rend=\"doublestrikethrough\"><CARDINAL class=\"proposed\" model=\"spacy_en_core_web_md\" count=25>1641</del><lb/>Examjnation</CARDINAL> of <ORG class=\"proposed\" model=\"spacy_en_core_web_md\" count=26>Edward<lb/>Lake</ORG> concerning a\n",
      "                    conference <lb/>betweene him &amp; <person sameAs=\"person809164r087-3\">Doctor <PERSON class=\"proposed\" model=\"spacy_en_core_web_md\" count=27>Moore</PERSON></person> in <lb/><GPE class=\"proposed\" model=\"spacy_en_core_web_md\" count=28>London</GPE>.<lb/><lb/>\n",
      "                </p>\n",
      "        <closer>\n",
      "          <signed>\n",
      "            <roleName type=\"Commissioner\"/>\n",
      "            <name>James Ware</name>\n",
      "          </signed>\n",
      "        </closer>\n",
      "      </div>\n",
      "      <div type=\"normalised\">\n",
      "        <pb n=\"fol. 164r\" pagenum=\"261\"/>\n",
      "        <p>#xd;261 to 268#xd;The examination of <person sameAs=\"person809164r087-1\"><PERSON class=\"proposed\" model=\"spacy_en_core_web_md\" count=29>Edward Lake</PERSON></person> of <GPE class=\"proposed\" model=\"spacy_en_core_web_md\" count=30>Dublin</GPE> Alderman taken <DATE class=\"proposed\" model=\"spacy_en_core_web_md\" count=31>the 12th of November</DATE> <del rend=\"doublestrikethrough\">1641</del>Upon oath\n",
      "                    <del rend=\"strikethrough\">before</del>\n",
      "                    <add place=\"inline\">ministered by</add>\n",
      "                    the clerk of the <ORG class=\"proposed\" model=\"spacy_en_core_web_md\" count=32>Council</ORG> by direction of the board#xd;<note type=\"marginalia\">A</note> The said\n",
      "                    examinant says that <DATE class=\"proposed\" model=\"spacy_en_core_web_md\" count=33>about July Last</DATE> he being then in <GPE class=\"proposed\" model=\"spacy_en_core_web_md\" count=34>London</GPE>\n",
      "                    <del rend=\"strikethrough\"><add place=\"inline\">and supping</add></del>\n",
      "                    <del rend=\"strikethrough\">at</del>\n",
      "                    <add place=\"inline\">and usually resorting to</add>\n",
      "                    the house of <person sameAs=\"person809164r087-2\"><PERSON class=\"proposed\" model=\"spacy_en_core_web_md\" count=35>Thomas Hicks</PERSON></person> an apothecary in <PERSON class=\"proposed\" model=\"spacy_en_core_web_md\" count=36>Fleetestreete</PERSON> where <CARDINAL class=\"proposed\" model=\"spacy_en_core_web_md\" count=37>one</CARDINAL> <person sameAs=\"person809164r087-3\">Doctor <PERSON class=\"proposed\" model=\"spacy_en_core_web_md\" count=38>Moore</PERSON> </person><del rend=\"strikethrough\">usually\n",
      "                    </del> lodged the examinant &amp; his wife <TIME class=\"proposed\" model=\"spacy_en_core_web_md\" count=39>one night</TIME> being at <TIME class=\"proposed\" model=\"spacy_en_core_web_md\" count=40>Supper</TIME> with the said <person sameAs=\"person809164r087-2\"><PERSON class=\"proposed\" model=\"spacy_en_core_web_md\" count=41>Thomas Hicks</PERSON></person>. the\n",
      "                    said <person sameAs=\"person809164r087-3\">Doctor <PERSON class=\"proposed\" model=\"spacy_en_core_web_md\" count=42>Moore</PERSON></person> being then likewise at <TIME class=\"proposed\" model=\"spacy_en_core_web_md\" count=43>Supper</TIME> with them asked him why he did not <WORK_OF_ART class=\"proposed\" model=\"spacy_en_core_web_md\" count=44>Live in England</WORK_OF_ART>\n",
      "                    seeing that he had given over <note type=\"marginalia\">B</note> his trading. To which the examinant\n",
      "                    answered that he chose rather to <FAC class=\"proposed\" model=\"spacy_en_core_web_md\" count=45>Live</FAC> in <GPE class=\"proposed\" model=\"spacy_en_core_web_md\" count=46>Ireland</GPE> because the Little means he had was there.\n",
      "                    whereupon the said <person sameAs=\"person809164r087-3\">Doctor <PERSON class=\"proposed\" model=\"spacy_en_core_web_md\" count=47>Moore</PERSON></person> replied that it was much to be feared that there would be old\n",
      "                    cutting of throats in <GPE class=\"proposed\" model=\"spacy_en_core_web_md\" count=48>Ireland</GPE> er it were Long.#xd;<person sameAs=\"person809164r087-1\">Edward Lake</person>#xd;Coram me#xd;James Ware\n",
      "                </p>\n",
      "        <pb n=\"fol. 164v\"/>\n",
      "        <p/>\n",
      "        <pb n=\"fol. 165r\"/>\n",
      "        <p/>\n",
      "        <pb n=\"fol. 165v\" pagenum=\"12\"/>\n",
      "        <p>#<MONEY class=\"proposed\" model=\"spacy_en_core_web_md\" count=49>xd;#xd;12</MONEY>\n",
      "                    <del rend=\"doublestrikethrough\">No</del>\n",
      "                    <del rend=\"doublestrikethrough\"><CARDINAL class=\"proposed\" model=\"spacy_en_core_web_md\" count=50>1641</del>#xd;Examination</CARDINAL> of Edward#xd;Lake concerning a conference\n",
      "                    #<MONEY class=\"proposed\" model=\"spacy_en_core_web_md\" count=51>xd;between</MONEY> him &amp; <person sameAs=\"person809164r087-3\">Doctor <PERSON class=\"proposed\" model=\"spacy_en_core_web_md\" count=52>Moore</PERSON></person> in #<MONEY class=\"proposed\" model=\"spacy_en_core_web_md\" count=53>xd;London.#xd;#xd</MONEY>;\n",
      "                </p>\n",
      "        <closer>\n",
      "          <signed>\n",
      "            <rolename type=\"commissioner\"/>\n",
      "            <name><PERSON class=\"proposed\" model=\"spacy_en_core_web_md\" count=54>James Ware</PERSON></name>\n",
      "          </signed>\n",
      "        </closer>\n",
      "      </div>\n",
      "    </body>\n",
      "    \n"
     ]
    }
   ],
   "source": [
    "print(tagged)"
   ]
  }
 ],
 "metadata": {
  "kernelspec": {
   "display_name": "Django Shell-Plus",
   "language": "python",
   "name": "django_extensions"
  },
  "language_info": {
   "codemirror_mode": {
    "name": "ipython",
    "version": 3
   },
   "file_extension": ".py",
   "mimetype": "text/x-python",
   "name": "python",
   "nbconvert_exporter": "python",
   "pygments_lexer": "ipython3",
   "version": "3.6.7"
  }
 },
 "nbformat": 4,
 "nbformat_minor": 2
}
