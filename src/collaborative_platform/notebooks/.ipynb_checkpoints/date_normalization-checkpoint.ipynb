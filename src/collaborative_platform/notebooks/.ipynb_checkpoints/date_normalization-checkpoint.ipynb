{
 "cells": [
  {
   "cell_type": "markdown",
   "metadata": {},
   "source": [
    "# PROVIDEDH Collaborative platform\n",
    "## Jupyter notebook"
   ]
  },
  {
   "cell_type": "code",
   "execution_count": 1,
   "metadata": {},
   "outputs": [],
   "source": [
    "import re\n",
    "import os\n",
    "from functools import reduce\n",
    "from lxml import etree as et\n",
    "from lxml.etree import Element\n",
    "import itertools"
   ]
  },
  {
   "cell_type": "markdown",
   "metadata": {},
   "source": [
    "## 1 Date Processing"
   ]
  },
  {
   "cell_type": "code",
   "execution_count": 2,
   "metadata": {},
   "outputs": [],
   "source": [
    "namespaces = {'tei': 'http://www.tei-c.org/ns/1.0', 'xml': 'http://www.w3.org/XML/1998/namespace'}"
   ]
  },
  {
   "cell_type": "code",
   "execution_count": 3,
   "metadata": {},
   "outputs": [
    {
     "name": "stdout",
     "output_type": "stream",
     "text": [
      "> 1653-09-6\n",
      "> 1653-06-09\n",
      "> 1653-01-24\n",
      "> 1653\n",
      "> 1653-01\n",
      "> --01-24\n",
      "> 1996-01-24\n",
      "> ----24\n",
      "> --03\n",
      "> --09-03\n",
      "> --09-23\n",
      "> 1653-06-9\n"
     ]
    }
   ],
   "source": [
    "def extract_date(text):\n",
    "    date_dict = {'day': None, 'month': None, 'year': '-'}\n",
    "    months = {\n",
    "        'january':'01', 'jan':'01', 'february':'02', 'feb':'02', 'febr':'02', 'march':'03', \n",
    "        'mar':'03', 'april':'04', 'jpr':'04', 'may':'05', 'june':'06', \n",
    "        'jun':'06', 'july':'07', 'jul':'07', 'august':'08', 'aug':'08', \n",
    "        'september':'09', 'sep':'09', 'october':'10', 'oct':'10', 'november':'11', \n",
    "        'nov':'11', 'december':'12', 'dec':'12'\n",
    "    }\n",
    "    \n",
    "    text = text.replace('-', ' ')\n",
    "    text = text.replace(',', ' ')\n",
    "    text = text.replace(';', ' ')\n",
    "    text = text.replace('.', ' ')\n",
    "    words = text.strip().split(' ')\n",
    "        \n",
    "    extract = True\n",
    "    # 1. Match a full date\n",
    "    if extract:\n",
    "        match = re.match('.*([0-9]{1,2} [0-9]{1,2} [0-9]{4}).*', text)\n",
    "        if not match is None:\n",
    "            info = match.groups()[0].split(' ')\n",
    "            date_dict['year'] = info[2]\n",
    "            date_dict['month'] = info[1]\n",
    "            date_dict['day'] = info[0]\n",
    "            extract = False\n",
    "        else:\n",
    "            match = re.match('.*([0-9]{4} [0-9]{1,2} [0-9]{1,2}).*', text)\n",
    "            if not match is None:\n",
    "                info = match.groups()[0].split(' ')\n",
    "                date_dict['year'] = info[0]\n",
    "                date_dict['month'] = info[1]\n",
    "                date_dict['day'] = info[2]\n",
    "                extract = False\n",
    "\n",
    "    # 2. Textual match of months\n",
    "    if extract:\n",
    "        month = reduce(lambda ac, dc: str(dc) if dc.lower() in months else ac, words, None)\n",
    "        if not month is None:\n",
    "            index = words.index(month)\n",
    "            words.pop(index)\n",
    "            date_dict['month'] = months[month.lower()]\n",
    "\n",
    "    # 3. textual match of days \n",
    "    if extract:\n",
    "        day = reduce(lambda ac, dc: str(dc) if re.match('[0-9]{1,2}th', dc) else ac, words, None)\n",
    "        if not day is None:\n",
    "            index = words.index(day)\n",
    "            words.pop(index)\n",
    "            date_dict['day'] = day.replace('th', '')\n",
    "        else:\n",
    "            day = reduce(lambda ac, dc: str(dc) if dc.endswith('nd') else ac, words, None)\n",
    "            if not day is None:\n",
    "                index = words.index(day)\n",
    "                words.pop(index)\n",
    "                date_dict['day'] = '02'\n",
    "            else:\n",
    "                day = reduce(lambda ac, dc: str(dc) if dc.endswith('rd') else ac, words, None)\n",
    "                if not day is None:\n",
    "                    index = words.index(day)\n",
    "                    words.pop(index)\n",
    "                    date_dict['day'] = '03'\n",
    "                else:\n",
    "                    day = reduce(lambda ac, dc: str(dc) if dc.endswith('st') else ac, words, None)\n",
    "                    if not day is None:\n",
    "                        index = words.index(day)\n",
    "                        words.pop(index)\n",
    "                        date_dict['day'] = '01'\n",
    "            \n",
    "    # 4. Matching four digit years\n",
    "    if extract:\n",
    "        year = reduce(lambda ac, dc: str(dc) if re.match('.*[0-9]{4}.*', dc)  else ac, words, None)\n",
    "        if not year is None:\n",
    "            index = words.index(year)\n",
    "            words.pop(index)\n",
    "            date_dict['year'] = re.match('([0-9]{4})', year).groups()[0]\n",
    "\n",
    "    if not date_dict['day'] is None and date_dict['month'] is None:\n",
    "        date_dict['month'] = '-'\n",
    "            \n",
    "    date_fields = filter(lambda x: not x is None, [date_dict['year'], date_dict['month'], date_dict['day']])\n",
    "    date = '-'.join(date_fields)\n",
    "    \n",
    "    # 4. Matching days after the 12th\n",
    "    if extract:\n",
    "        day = reduce(lambda ac, dc: str(dc) if re.match('.*[0-9]{2}.*', dc)  else ac, words, None)\n",
    "        if not day is None:\n",
    "            day_int = int(re.match('.*([0-9]{2}).*', day).groups()[0])\n",
    "            if day_int > 12:\n",
    "                index = words.index(day)\n",
    "                words.pop(index)\n",
    "                date_dict['day'] = str(day_int)\n",
    "\n",
    "    if not date_dict['day'] is None and date_dict['month'] is None:\n",
    "        date_dict['month'] = '-'\n",
    "            \n",
    "    date_fields = filter(lambda x: not x is None, [date_dict['year'], date_dict['month'], date_dict['day']])\n",
    "    date = '-'.join(date_fields)\n",
    "    \n",
    "    # 5. Matching days when the month is already specified\n",
    "    if extract:\n",
    "        day = reduce(lambda ac, dc: str(dc) if re.match('.*[0-9]{1,2}.*', dc)  else ac, words, None)\n",
    "        if not day is None:\n",
    "            if not date_dict['month'] is None:\n",
    "                index = words.index(day)\n",
    "                words.pop(index)\n",
    "                date_dict['day'] = re.match('.*([0-9]{1,2}).*', day).groups()[0]\n",
    "\n",
    "    if not date_dict['day'] is None and date_dict['month'] is None:\n",
    "        date_dict['month'] = '-'\n",
    "            \n",
    "    date_fields = filter(lambda x: not x is None, [date_dict['year'], date_dict['month'], date_dict['day']])\n",
    "    date = '-'.join(date_fields)\n",
    "    \n",
    "    if date.strip() == '-':\n",
    "        date = ''\n",
    "    \n",
    "    return date\n",
    "\n",
    "print('>', extract_date('06-09-1653'))\n",
    "print('>', extract_date('1653-06-09'))\n",
    "print('>', extract_date('24th January 1653'))\n",
    "print('>', extract_date('1653'))\n",
    "print('>', extract_date('January 1653'))\n",
    "print('>', extract_date('24th of January'))\n",
    "print('>', extract_date('24th of January, 1996'))\n",
    "print('>', extract_date('24th'))\n",
    "print('>', extract_date('march'))\n",
    "print('>', extract_date('third sep'))\n",
    "print('>', extract_date('23 sep'))\n",
    "print('>', extract_date('09 June 1653#xd;Being'))"
   ]
  },
  {
   "cell_type": "markdown",
   "metadata": {},
   "source": [
    "## 2 File processing"
   ]
  },
  {
   "cell_type": "code",
   "execution_count": 12,
   "metadata": {},
   "outputs": [],
   "source": [
    "dep_folder = './depositions_subset/to_process/processed'\n",
    "depositions = os.listdir(dep_folder)\n",
    "processed = './depositions_subset/to_process/processed'"
   ]
  },
  {
   "cell_type": "code",
   "execution_count": 13,
   "metadata": {
    "scrolled": false
   },
   "outputs": [],
   "source": [
    "dates = []\n",
    "\n",
    "for dep_name in depositions:\n",
    "    with open(os.path.join(dep_folder, dep_name),'r') as file:\n",
    "        dep_tree = et.fromstring(file.read().encode())\n",
    "        dep_dates = dep_tree.xpath('.//tei:date', namespaces=namespaces)\n",
    "        \n",
    "        for date in dep_dates:\n",
    "            if not date.text is None:\n",
    "                date_formated = extract_date(date.text)\n",
    "                if date_formated != '':\n",
    "                    date.set('when', date_formated)\n",
    "                \n",
    "    with open(os.path.join(processed, dep_name),'w') as file:\n",
    "        file.write(et.tostring(dep_tree).decode('UTF-8'))"
   ]
  }
 ],
 "metadata": {
  "kernelspec": {
   "display_name": "Django Shell-Plus",
   "language": "python",
   "name": "django_extensions"
  },
  "language_info": {
   "codemirror_mode": {
    "name": "ipython",
    "version": 3
   },
   "file_extension": ".py",
   "mimetype": "text/x-python",
   "name": "python",
   "nbconvert_exporter": "python",
   "pygments_lexer": "ipython3",
   "version": "3.6.7"
  }
 },
 "nbformat": 4,
 "nbformat_minor": 2
}
